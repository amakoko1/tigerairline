{
 "cells": [
  {
   "cell_type": "code",
   "execution_count": 1,
   "metadata": {},
   "outputs": [],
   "source": [
    "#!/usr/bin/env python\n",
    "# -*- coding: utf-8 -*-\n",
    "#定義\n",
    "import subprocess\n",
    "import sqlite3\n",
    "import win32crypt\n",
    "\n",
    "import requests\n",
    "\n",
    "SOUR_COOKIE_FILENAME = r'C:\\Users\\kidde\\AppData\\Local\\Google\\Chrome\\User Data\\Default\\Cookies'\n",
    "DIST_COOKIE_FILENAME = '.\\python-chrome-cookies'\n",
    "\n",
    "\n",
    "def get_chrome_cookies(url):\n",
    "    subprocess.call(['copy', SOUR_COOKIE_FILENAME, DIST_COOKIE_FILENAME], shell=True)\n",
    "    conn = sqlite3.connect(\".\\python-chrome-cookies\")\n",
    "    ret_dict = {}\n",
    "    for row in conn.execute(\"SELECT host_key, name, path, value, encrypted_value FROM cookies\"):\n",
    "        # if row[0] not in url:\n",
    "        if row[0] != url:\n",
    "            continue\n",
    "        print(row[0])\n",
    "        ret = win32crypt.CryptUnprotectData(row[4], None, None, None, 0)\n",
    "        ret_dict[row[1]] = ret[1].decode()\n",
    "    conn.close()\n",
    "    subprocess.call(['del', '.\\python-chrome-cookies'], shell=True)\n",
    "    return ret_dict\n"
   ]
  },
  {
   "cell_type": "code",
   "execution_count": 2,
   "metadata": {},
   "outputs": [
    {
     "name": "stdout",
     "output_type": "stream",
     "text": [
      ".tigerairtw.com\n",
      ".tigerairtw.com\n",
      ".tigerairtw.com\n",
      ".tigerairtw.com\n",
      ".tigerairtw.com\n",
      ".tigerairtw.com\n"
     ]
    }
   ],
   "source": [
    "#使用requests\n",
    "DOMAIN_NAME = '.tigerairtw.com'\n",
    "get_url = r'https://www.tigerairtw.com/zh-tw/'\n",
    "response = requests.get(get_url, cookies=get_chrome_cookies(DOMAIN_NAME))\n",
    "#print(response.text)\n"
   ]
  },
  {
   "cell_type": "code",
   "execution_count": 3,
   "metadata": {},
   "outputs": [
    {
     "ename": "NameError",
     "evalue": "name 'cookie' is not defined",
     "output_type": "error",
     "traceback": [
      "\u001b[1;31m---------------------------------------------------------------------------\u001b[0m",
      "\u001b[1;31mNameError\u001b[0m                                 Traceback (most recent call last)",
      "\u001b[1;32m<ipython-input-3-ce6f6e33ba25>\u001b[0m in \u001b[0;36m<module>\u001b[1;34m\u001b[0m\n\u001b[1;32m----> 1\u001b[1;33m \u001b[0mprint\u001b[0m\u001b[1;33m(\u001b[0m\u001b[0mcookie\u001b[0m\u001b[1;33m)\u001b[0m\u001b[1;33m\u001b[0m\u001b[1;33m\u001b[0m\u001b[0m\n\u001b[0m",
      "\u001b[1;31mNameError\u001b[0m: name 'cookie' is not defined"
     ]
    }
   ],
   "source": [
    "print(cookie)"
   ]
  },
  {
   "cell_type": "code",
   "execution_count": 4,
   "metadata": {},
   "outputs": [
    {
     "name": "stdout",
     "output_type": "stream",
     "text": [
      ".tigerairtw.com\n",
      ".tigerairtw.com\n",
      ".tigerairtw.com\n",
      ".tigerairtw.com\n",
      ".tigerairtw.com\n",
      ".tigerairtw.com\n"
     ]
    }
   ],
   "source": [
    "#使用urllib\n",
    "import urllib.request\n",
    "\n",
    "from selenium import webdriver\n",
    "from selenium.webdriver.common.keys import Keys\n",
    "import time\n",
    "from bs4 import BeautifulSoup\n",
    "\n",
    "DOMAIN_NAME = '.tigerairtw.com'\n",
    "get_url = r'https://www.tigerairtw.com/zh-tw/'\n",
    "headers = {'Cookie': ['='.join((i, j)) for i, j in get_chrome_cookies(DOMAIN_NAME).items()][0]}\n",
    "request = urllib.request.Request(get_url, headers=headers)\n",
    "response = urllib.request.urlopen(request)\n",
    "#print(response.read().decode())\n"
   ]
  },
  {
   "cell_type": "code",
   "execution_count": 5,
   "metadata": {},
   "outputs": [
    {
     "name": "stdout",
     "output_type": "stream",
     "text": [
      "654de77e30eb14f957a6268fde0442ce\n",
      "http://127.0.0.1:4682\n"
     ]
    }
   ],
   "source": [
    "from selenium import webdriver\n",
    "from selenium.webdriver.common.keys import Keys\n",
    "import time\n",
    "from bs4 import BeautifulSoup\n",
    "\n",
    "\n",
    "driver = webdriver.Chrome()\n",
    "executor_url = driver.command_executor._url\n",
    "session_id = driver.session_id\n",
    "print(session_id)\n",
    "print(executor_url)\n",
    "driver.get(\"https://www.tigerairtw.com/zh-tw/\")\n",
    "\n"
   ]
  },
  {
   "cell_type": "code",
   "execution_count": 75,
   "metadata": {},
   "outputs": [
    {
     "name": "stdout",
     "output_type": "stream",
     "text": [
      "{'Hm_lvt_a411c4d1664dd70048ee98afe7b28f0b': '1546566824'}\n"
     ]
    }
   ],
   "source": [
    "import os\n",
    "import sqlite3\n",
    "import requests\n",
    "from win32.win32crypt import CryptUnprotectData\n",
    " \n",
    "def getcookiefromchrome(host='.oschina.net'):\n",
    "  cookiepath=os.environ['LOCALAPPDATA']+r\"\\Google\\Chrome\\User Data\\Default\\Cookies\"\n",
    "  sql=\"select host_key,name,encrypted_value from cookies where host_key='%s'\" % host\n",
    "  with sqlite3.connect(cookiepath) as conn:\n",
    "    cu=conn.cursor()    \n",
    "    cookies={name:CryptUnprotectData(encrypted_value)[1].decode() for host_key,name,encrypted_value in cu.execute(sql).fetchall()}\n",
    "    print(cookies)\n",
    "    return cookies\n",
    " \n",
    "#运行环境windows 2012 server python3.4 x64 chrome 50\n",
    "#以下是测试代码\n",
    "#getcookiefromchrome()\n",
    "#getcookiefromchrome('.baidu.com')\n",
    " \n",
    "url='https://www.tigerairtw.com/zh-tw/'\n",
    " \n",
    "httphead={'User-Agent':'Safari/537.36',}\n",
    " \n",
    "#设置allow_redirects为真，访问http://my.oschina.net/ 可以跟随跳转到个人空间\n",
    "r=requests.get(url,headers=httphead,cookies=getcookiefromchrome('.oschina.net'),allow_redirects=1)\n",
    "#print(r.text)"
   ]
  },
  {
   "cell_type": "code",
   "execution_count": 38,
   "metadata": {},
   "outputs": [
    {
     "name": "stdout",
     "output_type": "stream",
     "text": [
      "{'Hm_lvt_a411c4d1664dd70048ee98afe7b28f0b': '1546566824'}\n",
      "{'_ga': 'GA1.2.1865830651.1542781284', '_gat': '1', '_gat_UA-86813519-1': '1', '_gid': 'GA1.2.1086759663.1548728590', 'ins-gaSSId': 'a892d9b6-77e1-f741-e476-69973b76b7e4_1548728594', 'ins-user-behaviour': '%7B%22flightType%22%3A%22Oneway%22%2C%22adultsNumber%22%3A1%2C%22childrenNumber%22%3A0%2C%22infantsNumber%22%3A0%2C%22origin%22%3A%22%E5%8F%B0%E5%8C%97(%E6%A1%83%E5%9C%92)%20(TPE)%22%2C%22destination%22%3A%22%E6%9D%B1%E4%BA%AC%E6%88%90%E7%94%B0%20(NRT)%22%2C%22passengersNumber%22%3A1%2C%22originCountry%22%3A%22%E5%8F%B0%E7%81%A3%22%2C%22destinationCountry%22%3A%22%E6%97%A5%E6%9C%AC%22%2C%22departureDate%22%3A%222019-01-09%22%2C%22arrivalDate%22%3A%222019-01-09%22%2C%22url%22%3A%22https%3A%2F%2Fbooking.tigerairtw.com%2F%3FdlType%3Dfltsrch%26culture%3Dzh-TW%26ms%3DOneway%26psgr%3D1_0_0%26depDate%3D2019-01-09%26retDate%3D2019-01-09%26origin%3DTPE%26dest%3DNRT%26pc%3D%26extraDays%3D3%22%2C%22currency%22%3A%22TWD%22%2C%22originCode%22%3A%22TPE%22%2C%22destinationCode%22%3A%22NRT%22%2C%22lang%22%3A%22zh_tw%22%2C%22lastSearchFlightUrl%22%3A%22https%3A%2F%2Fbooking.tigerairtw.com%2F%3FdlType%3Dfltsrch%26culture%3Dzh-TW%26ms%3DOneway%26psgr%3D1_0_0%26depDate%3D2019-01-09%26retDate%3D2019-01-10%26origin%3DTPE%26dest%3DNRT%26pc%3D%26extraDays%3D3%22%2C%22isBaggageSelected%22%3Afalse%2C%22isMealSelected%22%3Afalse%2C%22isSeatSelected%22%3Afalse%2C%22isInsuranceSelected%22%3Afalse%2C%22promoCode%22%3Afalse%7D', 'ins-user-logged-in': 'false', 'insdrSV': '10', 'scs': '%7B%22t%22%3A1%7D'}\n"
     ]
    },
    {
     "data": {
      "text/plain": [
       "{'_ga': 'GA1.2.1865830651.1542781284',\n",
       " '_gat': '1',\n",
       " '_gat_UA-86813519-1': '1',\n",
       " '_gid': 'GA1.2.1086759663.1548728590',\n",
       " 'ins-gaSSId': 'a892d9b6-77e1-f741-e476-69973b76b7e4_1548728594',\n",
       " 'ins-user-behaviour': '%7B%22flightType%22%3A%22Oneway%22%2C%22adultsNumber%22%3A1%2C%22childrenNumber%22%3A0%2C%22infantsNumber%22%3A0%2C%22origin%22%3A%22%E5%8F%B0%E5%8C%97(%E6%A1%83%E5%9C%92)%20(TPE)%22%2C%22destination%22%3A%22%E6%9D%B1%E4%BA%AC%E6%88%90%E7%94%B0%20(NRT)%22%2C%22passengersNumber%22%3A1%2C%22originCountry%22%3A%22%E5%8F%B0%E7%81%A3%22%2C%22destinationCountry%22%3A%22%E6%97%A5%E6%9C%AC%22%2C%22departureDate%22%3A%222019-01-09%22%2C%22arrivalDate%22%3A%222019-01-09%22%2C%22url%22%3A%22https%3A%2F%2Fbooking.tigerairtw.com%2F%3FdlType%3Dfltsrch%26culture%3Dzh-TW%26ms%3DOneway%26psgr%3D1_0_0%26depDate%3D2019-01-09%26retDate%3D2019-01-09%26origin%3DTPE%26dest%3DNRT%26pc%3D%26extraDays%3D3%22%2C%22currency%22%3A%22TWD%22%2C%22originCode%22%3A%22TPE%22%2C%22destinationCode%22%3A%22NRT%22%2C%22lang%22%3A%22zh_tw%22%2C%22lastSearchFlightUrl%22%3A%22https%3A%2F%2Fbooking.tigerairtw.com%2F%3FdlType%3Dfltsrch%26culture%3Dzh-TW%26ms%3DOneway%26psgr%3D1_0_0%26depDate%3D2019-01-09%26retDate%3D2019-01-10%26origin%3DTPE%26dest%3DNRT%26pc%3D%26extraDays%3D3%22%2C%22isBaggageSelected%22%3Afalse%2C%22isMealSelected%22%3Afalse%2C%22isSeatSelected%22%3Afalse%2C%22isInsuranceSelected%22%3Afalse%2C%22promoCode%22%3Afalse%7D',\n",
       " 'ins-user-logged-in': 'false',\n",
       " 'insdrSV': '10',\n",
       " 'scs': '%7B%22t%22%3A1%7D'}"
      ]
     },
     "execution_count": 38,
     "metadata": {},
     "output_type": "execute_result"
    }
   ],
   "source": [
    "import os\n",
    "import sqlite3\n",
    "import requests\n",
    "from win32.win32crypt import CryptUnprotectData\n",
    " \n",
    "def getcookiefromchrome(host='.oschina.net'):\n",
    "  cookiepath=os.environ['LOCALAPPDATA']+r\"\\Google\\Chrome\\User Data\\Default\\Cookies\"\n",
    "  sql=\"select host_key,name,encrypted_value from cookies where host_key='%s'\" % host\n",
    "  with sqlite3.connect(cookiepath) as conn:\n",
    "    cu=conn.cursor()    \n",
    "    cookies={name:CryptUnprotectData(encrypted_value)[1].decode() for host_key,name,encrypted_value in cu.execute(sql).fetchall()}\n",
    "    print(cookies)\n",
    "    return cookies\n",
    " \n",
    "#运行环境windows 2012 server python3.4 x64 chrome 50\n",
    "#以下是测试代码\n",
    "getcookiefromchrome()\n",
    "getcookiefromchrome('.tigerairtw.com')\n",
    " \n"
   ]
  },
  {
   "cell_type": "code",
   "execution_count": 39,
   "metadata": {},
   "outputs": [
    {
     "name": "stdout",
     "output_type": "stream",
     "text": [
      "<LWPCookieJar[]>\n"
     ]
    }
   ],
   "source": [
    "print(cookie)"
   ]
  },
  {
   "cell_type": "code",
   "execution_count": 31,
   "metadata": {},
   "outputs": [
    {
     "name": "stdout",
     "output_type": "stream",
     "text": [
      "<http.client.HTTPResponse object at 0x05206850>\n",
      "key: _joomair\n",
      "value: TW~TWD~TW\n"
     ]
    }
   ],
   "source": [
    "from http.cookiejar import CookieJar,LWPCookieJar\n",
    "from urllib.request import Request,urlopen,HTTPCookieProcessor,build_opener\n",
    "from urllib.parse import urlencode\n",
    "import ssl\n",
    "# ----------------------------------------获取cookie---------------------------\n",
    "# 生成一个管理cookie的对象\n",
    "cookie_obj = CookieJar()\n",
    "# 创建一个支持cookie的对象，对象属于HTTPCookieProcessor\n",
    "cookie_handler = HTTPCookieProcessor(cookie_obj)  \n",
    "#创建一个opener\n",
    "opener = build_opener(cookie_handler)  \n",
    "response = opener.open('https://www.tigerairtw.com/zh-tw/')\n",
    "print(response)\n",
    "#打印cookie\n",
    "for cookie in cookie_obj:\n",
    "  print('key:',cookie.name)\n",
    "  print('value:',cookie.value)"
   ]
  },
  {
   "cell_type": "code",
   "execution_count": 32,
   "metadata": {},
   "outputs": [
    {
     "name": "stdout",
     "output_type": "stream",
     "text": [
      "<Cookie _joomair=TW~TWD~TW for www.tigerairtw.com/zh-tw>\n"
     ]
    }
   ],
   "source": [
    "print(cookie)"
   ]
  },
  {
   "cell_type": "code",
   "execution_count": 34,
   "metadata": {},
   "outputs": [],
   "source": [
    "from http.cookiejar import CookieJar,LWPCookieJar\n",
    "from urllib.request import Request,urlopen,HTTPCookieProcessor,build_opener\n",
    "filename = 'neihan.txt'\n",
    "# 设置cookie保存的文件\n",
    "cookie_obj = LWPCookieJar(filename=filename)\n",
    "# 创建一个支持cookie的对象，对象属于HTTPCookieProcessor\n",
    "cookie_handler = HTTPCookieProcessor(cookie_obj)\n",
    "#创建一个opener\n",
    "opener = build_opener(cookie_handler)\n",
    "#请求网页\n",
    "response = opener.open('https://www.tigerairtw.com/zh-tw/')\n",
    "# 保存cookie到指定的文件当中去\n",
    "# ignore_expires=True 即便目标cookie已经在文件中存在，仍然对其写入\n",
    "# ignore_discard=True  即便cookie将要/已经过期，仍然写入\n",
    "cookie_obj.save(ignore_expires=True,ignore_discard=True)"
   ]
  },
  {
   "cell_type": "code",
   "execution_count": 36,
   "metadata": {},
   "outputs": [],
   "source": [
    "from http.cookiejar import CookieJar,LWPCookieJar\n",
    "from urllib.request import Request,urlopen,HTTPCookieProcessor,build_opener\n",
    "cookie = LWPCookieJar()\n",
    "#从文件中读取cookie到变量\n",
    "cookie.load('neihan.txt')\n",
    "request = Request('https://www.tigerairtw.com/zh-tw/')\n",
    "# 创建一个支持cookie的对象，对象属于HTTPCookieProcessor\n",
    "cookie_handler = HTTPCookieProcessor(cookie)\n",
    "#创建一个opener\n",
    "opener = build_opener(cookie_handler)\n",
    "#请求网页\n",
    "response = opener.open(request)\n",
    "# print(response.read().decode())"
   ]
  },
  {
   "cell_type": "code",
   "execution_count": 37,
   "metadata": {},
   "outputs": [
    {
     "ename": "NameError",
     "evalue": "name 'post_data' is not defined",
     "output_type": "error",
     "traceback": [
      "\u001b[1;31m---------------------------------------------------------------------------\u001b[0m",
      "\u001b[1;31mNameError\u001b[0m                                 Traceback (most recent call last)",
      "\u001b[1;32m<ipython-input-37-ba2150567e7a>\u001b[0m in \u001b[0;36m<module>\u001b[1;34m\u001b[0m\n\u001b[0;32m     17\u001b[0m \u001b[1;31m#})\u001b[0m\u001b[1;33m\u001b[0m\u001b[1;33m\u001b[0m\u001b[1;33m\u001b[0m\u001b[0m\n\u001b[0;32m     18\u001b[0m \u001b[1;31m# 请求url 并传参，设置编码方式\u001b[0m\u001b[1;33m\u001b[0m\u001b[1;33m\u001b[0m\u001b[1;33m\u001b[0m\u001b[0m\n\u001b[1;32m---> 19\u001b[1;33m \u001b[0mrequest\u001b[0m \u001b[1;33m=\u001b[0m \u001b[0mRequest\u001b[0m\u001b[1;33m(\u001b[0m\u001b[0mpost_url\u001b[0m\u001b[1;33m,\u001b[0m\u001b[0mbytes\u001b[0m\u001b[1;33m(\u001b[0m\u001b[0mpost_data\u001b[0m\u001b[1;33m,\u001b[0m\u001b[0mencoding\u001b[0m\u001b[1;33m=\u001b[0m\u001b[1;34m'utf-8'\u001b[0m\u001b[1;33m)\u001b[0m\u001b[1;33m)\u001b[0m\u001b[1;33m\u001b[0m\u001b[1;33m\u001b[0m\u001b[0m\n\u001b[0m\u001b[0;32m     20\u001b[0m \u001b[1;31m# 解决证书问题\u001b[0m\u001b[1;33m\u001b[0m\u001b[1;33m\u001b[0m\u001b[1;33m\u001b[0m\u001b[0m\n\u001b[0;32m     21\u001b[0m \u001b[0mssl\u001b[0m\u001b[1;33m.\u001b[0m\u001b[0m_create_default_https_context\u001b[0m \u001b[1;33m=\u001b[0m \u001b[0mssl\u001b[0m\u001b[1;33m.\u001b[0m\u001b[0m_create_unverified_context\u001b[0m\u001b[1;33m\u001b[0m\u001b[1;33m\u001b[0m\u001b[0m\n",
      "\u001b[1;31mNameError\u001b[0m: name 'post_data' is not defined"
     ]
    }
   ],
   "source": [
    "from http.cookiejar import CookieJar,LWPCookieJar\n",
    "from urllib.request import Request,urlopen,HTTPCookieProcessor,build_opener\n",
    "from urllib.parse import urlencode\n",
    "import ssl\n",
    "cookie = LWPCookieJar(filename='meishi.txt')\n",
    "cookie_handler = HTTPCookieProcessor(cookie)\n",
    "opener = build_opener(cookie_handler)\n",
    "headers={\n",
    "  'User-Agent':'Mozilla/5.0 (Windows NT 6.1; Win64; x64; rv:61.0) Gecko/20100101 Firefox/61.0'\n",
    "}\n",
    "post_url = 'https://booking.tigerairtw.com/Search.aspx'\n",
    "# urlencode对url当中的参数进行编码\n",
    "# urlencode()编码的对象为字典类型\n",
    "#post_data = urlencode({\n",
    "#  'username':'***********',  #自己的登陆账号\n",
    "#  'password':'************'  #自己的登陆密码\n",
    "#})\n",
    "# 请求url 并传参，设置编码方式\n",
    "request = Request(post_url,bytes(post_data,encoding='utf-8'))\n",
    "# 解决证书问题\n",
    "ssl._create_default_https_context = ssl._create_unverified_context\n",
    "response = opener.open(request)\n",
    "print(response.read().decode())\n",
    "cookie.save(ignore_discard=True,ignore_expires=True)"
   ]
  },
  {
   "cell_type": "code",
   "execution_count": 56,
   "metadata": {},
   "outputs": [
    {
     "name": "stdout",
     "output_type": "stream",
     "text": [
      "_joomair = TW~TWD~TW\n"
     ]
    }
   ],
   "source": [
    "#保存 cookie 到变量\n",
    "import urllib.request\n",
    "import http.cookiejar\n",
    "cookie = http.cookiejar.CookieJar()\n",
    "handler = urllib.request.HTTPCookieProcessor(cookie)\n",
    "opener = urllib.request.build_opener(handler)\n",
    "response = opener.open('https://www.tigerairtw.com/zh-tw/')\n",
    "  \n",
    "for item in cookie:\n",
    "    print('%s = %s' % (item.name,item.value))"
   ]
  },
  {
   "cell_type": "code",
   "execution_count": 69,
   "metadata": {},
   "outputs": [
    {
     "name": "stdout",
     "output_type": "stream",
     "text": [
      "_joomair = TW~TWD~TW\n"
     ]
    }
   ],
   "source": [
    "#保存 cookie 到文件\n",
    "import urllib.request\n",
    "import http.cookiejar\n",
    "cookie_file =r'C:\\Python\\mycode\\ft\\cookie.txt'\n",
    "cookie = http.cookiejar.MozillaCookieJar(cookie_file)\n",
    "handler = urllib.request.HTTPCookieProcessor(cookie)\n",
    "opener = urllib.request.build_opener(handler)\n",
    "#response = opener.open('https://www.tigerairtw.com/zh-tw/')\n",
    "request = urllib.request.Request('https://www.tigerairtw.com/zh-tw/',headers={\"Connection\": \"keep-alive\"})\n",
    "response = opener.open(request)\n",
    "cookie.save(ignore_discard=True, ignore_expires=True)\n",
    "for item in cookie:print('%s = %s' % (item.name,item.value))"
   ]
  },
  {
   "cell_type": "code",
   "execution_count": 51,
   "metadata": {},
   "outputs": [
    {
     "data": {
      "text/plain": [
       "<__main__.tiger at 0x52003b0>"
      ]
     },
     "execution_count": 51,
     "metadata": {},
     "output_type": "execute_result"
    }
   ],
   "source": [
    "tiger()"
   ]
  },
  {
   "cell_type": "code",
   "execution_count": null,
   "metadata": {},
   "outputs": [],
   "source": [
    "#从文件中读取 cookie 访问\n",
    "import urllib.request\n",
    "import http.cookiejar\n",
    "cookie_file =r'C:\\Python\\mycode\\ft\\cookie.txt'\n",
    "cookie = http.cookiejar.MozillaCookieJar()\n",
    "cookie.load(cookie_file, ignore_discard=True, ignore_expires=True)\n",
    "handler = urllib.request.HTTPCookieProcessor(cookie)\n",
    "opener = urllib.request.build_opener(handler)\n",
    "request = urllib.request.Request('https://www.tigerairtw.com/zh-tw/')\n",
    "html = opener.open(request).read().decode('gbk')\n",
    "print(html)"
   ]
  }
 ],
 "metadata": {
  "kernelspec": {
   "display_name": "Python 3",
   "language": "python",
   "name": "python3"
  },
  "language_info": {
   "codemirror_mode": {
    "name": "ipython",
    "version": 3
   },
   "file_extension": ".py",
   "mimetype": "text/x-python",
   "name": "python",
   "nbconvert_exporter": "python",
   "pygments_lexer": "ipython3",
   "version": "3.7.1"
  }
 },
 "nbformat": 4,
 "nbformat_minor": 2
}
